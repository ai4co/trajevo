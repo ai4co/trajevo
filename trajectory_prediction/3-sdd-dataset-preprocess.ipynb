{
 "cells": [
  {
   "cell_type": "code",
   "execution_count": 19,
   "metadata": {},
   "outputs": [],
   "source": [
    "import os\n",
    "\n",
    "import pandas as pd\n",
    "\n",
    "from torch.utils.data import DataLoader\n",
    "\n",
    "from trajectory_prediction.utils import (\n",
    "    TrajBatchSampler,\n",
    "    TrajectoryDataset,\n",
    "    traj_collate_fn,\n",
    ")\n",
    "\n",
    "root = \"../..\""
   ]
  },
  {
   "cell_type": "code",
   "execution_count": 4,
   "metadata": {},
   "outputs": [
    {
     "name": "stdout",
     "output_type": "stream",
     "text": [
      "Train dataframe shape: (169880, 6)\n",
      "Test dataframe shape: (56580, 6)\n"
     ]
    },
    {
     "data": {
      "text/html": [
       "<div>\n",
       "<style scoped>\n",
       "    .dataframe tbody tr th:only-of-type {\n",
       "        vertical-align: middle;\n",
       "    }\n",
       "\n",
       "    .dataframe tbody tr th {\n",
       "        vertical-align: top;\n",
       "    }\n",
       "\n",
       "    .dataframe thead th {\n",
       "        text-align: right;\n",
       "    }\n",
       "</style>\n",
       "<table border=\"1\" class=\"dataframe\">\n",
       "  <thead>\n",
       "    <tr style=\"text-align: right;\">\n",
       "      <th></th>\n",
       "      <th>frame</th>\n",
       "      <th>trackId</th>\n",
       "      <th>x</th>\n",
       "      <th>y</th>\n",
       "      <th>sceneId</th>\n",
       "      <th>metaId</th>\n",
       "    </tr>\n",
       "  </thead>\n",
       "  <tbody>\n",
       "    <tr>\n",
       "      <th>0</th>\n",
       "      <td>0</td>\n",
       "      <td>100</td>\n",
       "      <td>757.0</td>\n",
       "      <td>918.5</td>\n",
       "      <td>bookstore_0</td>\n",
       "      <td>0</td>\n",
       "    </tr>\n",
       "    <tr>\n",
       "      <th>1</th>\n",
       "      <td>12</td>\n",
       "      <td>100</td>\n",
       "      <td>765.0</td>\n",
       "      <td>918.5</td>\n",
       "      <td>bookstore_0</td>\n",
       "      <td>0</td>\n",
       "    </tr>\n",
       "    <tr>\n",
       "      <th>2</th>\n",
       "      <td>24</td>\n",
       "      <td>100</td>\n",
       "      <td>773.0</td>\n",
       "      <td>918.5</td>\n",
       "      <td>bookstore_0</td>\n",
       "      <td>0</td>\n",
       "    </tr>\n",
       "    <tr>\n",
       "      <th>3</th>\n",
       "      <td>36</td>\n",
       "      <td>100</td>\n",
       "      <td>780.5</td>\n",
       "      <td>918.5</td>\n",
       "      <td>bookstore_0</td>\n",
       "      <td>0</td>\n",
       "    </tr>\n",
       "    <tr>\n",
       "      <th>4</th>\n",
       "      <td>48</td>\n",
       "      <td>100</td>\n",
       "      <td>788.5</td>\n",
       "      <td>919.5</td>\n",
       "      <td>bookstore_0</td>\n",
       "      <td>0</td>\n",
       "    </tr>\n",
       "  </tbody>\n",
       "</table>\n",
       "</div>"
      ],
      "text/plain": [
       "   frame  trackId      x      y      sceneId  metaId\n",
       "0      0      100  757.0  918.5  bookstore_0       0\n",
       "1     12      100  765.0  918.5  bookstore_0       0\n",
       "2     24      100  773.0  918.5  bookstore_0       0\n",
       "3     36      100  780.5  918.5  bookstore_0       0\n",
       "4     48      100  788.5  919.5  bookstore_0       0"
      ]
     },
     "execution_count": 4,
     "metadata": {},
     "output_type": "execute_result"
    }
   ],
   "source": [
    "# Load the train and test data from the original TrajNet dataset\n",
    "df_train = pd.read_pickle(os.path.join(root, \"datasets/sdd_trajnet/original/train_trajnet.pkl\"))\n",
    "df_test = pd.read_pickle(os.path.join(root, \"datasets/sdd_trajnet/original/test_trajnet.pkl\"))\n",
    "\n",
    "# Log the information of the train and test dataframe\n",
    "print(f\"Train dataframe shape: {df_train.shape}\")\n",
    "print(f\"Test dataframe shape: {df_test.shape}\")\n",
    "\n",
    "df_train.head()"
   ]
  },
  {
   "cell_type": "code",
   "execution_count": 8,
   "metadata": {},
   "outputs": [
    {
     "name": "stdout",
     "output_type": "stream",
     "text": [
      "Number of scenes: 30\n",
      "Scenes: ['bookstore_0' 'bookstore_1' 'bookstore_2' 'bookstore_3' 'coupa_3'\n",
      " 'deathCircle_0' 'deathCircle_1' 'deathCircle_2' 'deathCircle_3'\n",
      " 'deathCircle_4' 'gates_0' 'gates_1' 'gates_3' 'gates_4' 'gates_5'\n",
      " 'gates_6' 'gates_7' 'gates_8' 'hyang_4' 'hyang_5' 'hyang_6' 'hyang_7'\n",
      " 'hyang_9' 'nexus_0' 'nexus_1' 'nexus_3' 'nexus_4' 'nexus_7' 'nexus_8'\n",
      " 'nexus_9']\n"
     ]
    }
   ],
   "source": [
    "# List all scenes\n",
    "scenes = df_train[\"sceneId\"].unique()\n",
    "print(f\"Number of scenes: {len(scenes)}\")\n",
    "\n",
    "# Log all scenes\n",
    "print(f\"Scenes: {scenes}\")"
   ]
  },
  {
   "cell_type": "markdown",
   "metadata": {},
   "source": [
    "### Take one scene as an example"
   ]
  },
  {
   "cell_type": "code",
   "execution_count": 10,
   "metadata": {},
   "outputs": [
    {
     "name": "stdout",
     "output_type": "stream",
     "text": [
      "Scene data shape: (16100, 6)\n",
      "Scene data first few rows:\n"
     ]
    },
    {
     "data": {
      "text/html": [
       "<div>\n",
       "<style scoped>\n",
       "    .dataframe tbody tr th:only-of-type {\n",
       "        vertical-align: middle;\n",
       "    }\n",
       "\n",
       "    .dataframe tbody tr th {\n",
       "        vertical-align: top;\n",
       "    }\n",
       "\n",
       "    .dataframe thead th {\n",
       "        text-align: right;\n",
       "    }\n",
       "</style>\n",
       "<table border=\"1\" class=\"dataframe\">\n",
       "  <thead>\n",
       "    <tr style=\"text-align: right;\">\n",
       "      <th></th>\n",
       "      <th>frame</th>\n",
       "      <th>trackId</th>\n",
       "      <th>x</th>\n",
       "      <th>y</th>\n",
       "      <th>sceneId</th>\n",
       "      <th>metaId</th>\n",
       "    </tr>\n",
       "  </thead>\n",
       "  <tbody>\n",
       "    <tr>\n",
       "      <th>0</th>\n",
       "      <td>0</td>\n",
       "      <td>100</td>\n",
       "      <td>757.0</td>\n",
       "      <td>918.5</td>\n",
       "      <td>bookstore_0</td>\n",
       "      <td>0</td>\n",
       "    </tr>\n",
       "    <tr>\n",
       "      <th>1</th>\n",
       "      <td>12</td>\n",
       "      <td>100</td>\n",
       "      <td>765.0</td>\n",
       "      <td>918.5</td>\n",
       "      <td>bookstore_0</td>\n",
       "      <td>0</td>\n",
       "    </tr>\n",
       "    <tr>\n",
       "      <th>2</th>\n",
       "      <td>24</td>\n",
       "      <td>100</td>\n",
       "      <td>773.0</td>\n",
       "      <td>918.5</td>\n",
       "      <td>bookstore_0</td>\n",
       "      <td>0</td>\n",
       "    </tr>\n",
       "    <tr>\n",
       "      <th>3</th>\n",
       "      <td>36</td>\n",
       "      <td>100</td>\n",
       "      <td>780.5</td>\n",
       "      <td>918.5</td>\n",
       "      <td>bookstore_0</td>\n",
       "      <td>0</td>\n",
       "    </tr>\n",
       "    <tr>\n",
       "      <th>4</th>\n",
       "      <td>48</td>\n",
       "      <td>100</td>\n",
       "      <td>788.5</td>\n",
       "      <td>919.5</td>\n",
       "      <td>bookstore_0</td>\n",
       "      <td>0</td>\n",
       "    </tr>\n",
       "  </tbody>\n",
       "</table>\n",
       "</div>"
      ],
      "text/plain": [
       "   frame  trackId      x      y      sceneId  metaId\n",
       "0      0      100  757.0  918.5  bookstore_0       0\n",
       "1     12      100  765.0  918.5  bookstore_0       0\n",
       "2     24      100  773.0  918.5  bookstore_0       0\n",
       "3     36      100  780.5  918.5  bookstore_0       0\n",
       "4     48      100  788.5  919.5  bookstore_0       0"
      ]
     },
     "execution_count": 10,
     "metadata": {},
     "output_type": "execute_result"
    }
   ],
   "source": [
    "scene_name = \"bookstore_0\"\n",
    "scene_data = df_train[df_train[\"sceneId\"] == scene_name]\n",
    "print(f\"Scene data shape: {scene_data.shape}\")\n",
    "\n",
    "# Log the first few rows of the scene data\n",
    "print(\"Scene data first few rows:\")\n",
    "scene_data.head()"
   ]
  },
  {
   "cell_type": "code",
   "execution_count": 12,
   "metadata": {},
   "outputs": [],
   "source": [
    "def convert_and_save_tracking_data(df, output_folder, filename='tracking_data.txt'):\n",
    "    \"\"\"\n",
    "    Convert tracking dataframe to the specified format and save as txt file.\n",
    "    \n",
    "    Args:\n",
    "        df: Pandas DataFrame containing tracking data with columns [frame, trackId, x, y, sceneId, metaId]\n",
    "        output_folder: Folder path to save the output txt file\n",
    "        filename: Name of the output txt file\n",
    "    \"\"\"\n",
    "    # Create output folder if it doesn't exist\n",
    "    os.makedirs(output_folder, exist_ok=True)\n",
    "\n",
    "    # Sort by frame first, then by metaId (agent id)\n",
    "    sorted_df = df.sort_values(by=['frame', 'metaId'])\n",
    "\n",
    "    # Group by frame\n",
    "    grouped = sorted_df.groupby('frame')\n",
    "\n",
    "    # Open file for writing\n",
    "    output_path = os.path.join(output_folder, filename)\n",
    "    with open(output_path, 'w') as f:\n",
    "        # Process each frame group\n",
    "        for frame, group in grouped:\n",
    "            # For each agent in this frame\n",
    "            for _, row in group.iterrows():\n",
    "                # Write frame, agent_id (metaId), x, y as tab-separated values\n",
    "                f.write(f\"{row['frame']}\\t{row['metaId']}.0\\t{row['x']/100:.2f}\\t{row['y']/100:.2f}\\n\")\n",
    "\n",
    "    print(f\"Conversion complete. File saved to {output_path}\")\n",
    "    return output_path"
   ]
  },
  {
   "cell_type": "code",
   "execution_count": 17,
   "metadata": {},
   "outputs": [
    {
     "name": "stdout",
     "output_type": "stream",
     "text": [
      "Conversion complete. File saved to ../../datasets/sdd_trajnet/processed/bookstore_0.txt\n"
     ]
    }
   ],
   "source": [
    "output_path = convert_and_save_tracking_data(\n",
    "    df=scene_data,\n",
    "    output_folder=os.path.join(root, \"datasets/sdd_trajnet/processed/\"),\n",
    "    filename=f\"{scene_name}.txt\"\n",
    ")"
   ]
  },
  {
   "cell_type": "code",
   "execution_count": 21,
   "metadata": {},
   "outputs": [
    {
     "name": "stdout",
     "output_type": "stream",
     "text": [
      "Batch shape: torch.Size([33, 8, 2])\n",
      "Batch shape: torch.Size([33, 12, 2])\n"
     ]
    }
   ],
   "source": [
    "# Load and test the converted tracking data\n",
    "dataset_dir = os.path.join(root, \"datasets/sdd_trajnet/processed/\")\n",
    "obs_len = 8\n",
    "pred_len = 12\n",
    "batch_size = 32\n",
    "\n",
    "dataset = TrajectoryDataset(\n",
    "    data_dir=dataset_dir,\n",
    "    obs_len=obs_len,\n",
    "    pred_len=pred_len,\n",
    ")\n",
    "sampler = TrajBatchSampler(\n",
    "    dataset,\n",
    "    batch_size=batch_size,\n",
    "    shuffle=True,\n",
    "    drop_last=True\n",
    ")\n",
    "dataloader = DataLoader(\n",
    "    dataset,\n",
    "    batch_sampler=sampler,\n",
    "    collate_fn=traj_collate_fn,\n",
    "    pin_memory=True\n",
    ")\n",
    "\n",
    "batch = next(iter(dataloader))\n",
    "print(f\"Batch shape: {batch[0].shape}\")\n",
    "print(f\"Batch shape: {batch[1].shape}\")"
   ]
  },
  {
   "cell_type": "markdown",
   "metadata": {},
   "source": [
    "### Process the whole dataset"
   ]
  },
  {
   "cell_type": "code",
   "execution_count": 22,
   "metadata": {},
   "outputs": [
    {
     "name": "stdout",
     "output_type": "stream",
     "text": [
      "Conversion complete. File saved to ../../datasets/sdd_trajnet/processed/bookstore_0.txt\n",
      "Conversion complete. File saved to ../../datasets/sdd_trajnet/processed/bookstore_1.txt\n",
      "Conversion complete. File saved to ../../datasets/sdd_trajnet/processed/bookstore_2.txt\n",
      "Conversion complete. File saved to ../../datasets/sdd_trajnet/processed/bookstore_3.txt\n",
      "Conversion complete. File saved to ../../datasets/sdd_trajnet/processed/coupa_3.txt\n",
      "Conversion complete. File saved to ../../datasets/sdd_trajnet/processed/deathCircle_0.txt\n",
      "Conversion complete. File saved to ../../datasets/sdd_trajnet/processed/deathCircle_1.txt\n",
      "Conversion complete. File saved to ../../datasets/sdd_trajnet/processed/deathCircle_2.txt\n",
      "Conversion complete. File saved to ../../datasets/sdd_trajnet/processed/deathCircle_3.txt\n",
      "Conversion complete. File saved to ../../datasets/sdd_trajnet/processed/deathCircle_4.txt\n",
      "Conversion complete. File saved to ../../datasets/sdd_trajnet/processed/gates_0.txt\n",
      "Conversion complete. File saved to ../../datasets/sdd_trajnet/processed/gates_1.txt\n",
      "Conversion complete. File saved to ../../datasets/sdd_trajnet/processed/gates_3.txt\n",
      "Conversion complete. File saved to ../../datasets/sdd_trajnet/processed/gates_4.txt\n",
      "Conversion complete. File saved to ../../datasets/sdd_trajnet/processed/gates_5.txt\n",
      "Conversion complete. File saved to ../../datasets/sdd_trajnet/processed/gates_6.txt\n",
      "Conversion complete. File saved to ../../datasets/sdd_trajnet/processed/gates_7.txt\n",
      "Conversion complete. File saved to ../../datasets/sdd_trajnet/processed/gates_8.txt\n",
      "Conversion complete. File saved to ../../datasets/sdd_trajnet/processed/hyang_4.txt\n",
      "Conversion complete. File saved to ../../datasets/sdd_trajnet/processed/hyang_5.txt\n",
      "Conversion complete. File saved to ../../datasets/sdd_trajnet/processed/hyang_6.txt\n",
      "Conversion complete. File saved to ../../datasets/sdd_trajnet/processed/hyang_7.txt\n",
      "Conversion complete. File saved to ../../datasets/sdd_trajnet/processed/hyang_9.txt\n",
      "Conversion complete. File saved to ../../datasets/sdd_trajnet/processed/nexus_0.txt\n",
      "Conversion complete. File saved to ../../datasets/sdd_trajnet/processed/nexus_1.txt\n",
      "Conversion complete. File saved to ../../datasets/sdd_trajnet/processed/nexus_3.txt\n",
      "Conversion complete. File saved to ../../datasets/sdd_trajnet/processed/nexus_4.txt\n",
      "Conversion complete. File saved to ../../datasets/sdd_trajnet/processed/nexus_7.txt\n",
      "Conversion complete. File saved to ../../datasets/sdd_trajnet/processed/nexus_8.txt\n",
      "Conversion complete. File saved to ../../datasets/sdd_trajnet/processed/nexus_9.txt\n"
     ]
    }
   ],
   "source": [
    "for scene_name in scenes:\n",
    "    scene_data = df_train[df_train[\"sceneId\"] == scene_name]\n",
    "\n",
    "    output_path = convert_and_save_tracking_data(\n",
    "        df=scene_data,\n",
    "        output_folder=os.path.join(root, \"datasets/sdd_trajnet/processed/\"),\n",
    "        filename=f\"{scene_name}.txt\"\n",
    "    )"
   ]
  },
  {
   "cell_type": "code",
   "execution_count": 35,
   "metadata": {},
   "outputs": [
    {
     "name": "stdout",
     "output_type": "stream",
     "text": [
      "Load data from 29 scene files, each scene limited to 10 samples\n",
      "Processing scene: nexus_1\n",
      "Loaded 10 samples from scene nexus_1\n",
      "Processing scene: gates_4\n",
      "Loaded 10 samples from scene gates_4\n",
      "Processing scene: coupa_3\n",
      "Loaded 10 samples from scene coupa_3\n",
      "Processing scene: hyang_7\n",
      "Loaded 2 samples from scene hyang_7\n",
      "Processing scene: bookstore_0\n",
      "Loaded 10 samples from scene bookstore_0\n",
      "Processing scene: deathCircle_4\n",
      "Loaded 1 samples from scene deathCircle_4\n",
      "Processing scene: nexus_3\n",
      "Loaded 10 samples from scene nexus_3\n",
      "Processing scene: gates_6\n",
      "Loaded 3 samples from scene gates_6\n",
      "Processing scene: nexus_4\n",
      "Loaded 10 samples from scene nexus_4\n",
      "Processing scene: hyang_6\n",
      "Loaded 10 samples from scene hyang_6\n",
      "Processing scene: gates_5\n",
      "Loaded 5 samples from scene gates_5\n",
      "Processing scene: gates_1\n",
      "Loaded 10 samples from scene gates_1\n",
      "Processing scene: deathCircle_0\n",
      "Loaded 10 samples from scene deathCircle_0\n",
      "Processing scene: gates_7\n",
      "Loaded 3 samples from scene gates_7\n",
      "Processing scene: hyang_5\n",
      "Loaded 10 samples from scene hyang_5\n",
      "Processing scene: bookstore_2\n",
      "Loaded 10 samples from scene bookstore_2\n",
      "Processing scene: deathCircle_2\n",
      "Loaded 1 samples from scene deathCircle_2\n",
      "Processing scene: bookstore_1\n",
      "Loaded 10 samples from scene bookstore_1\n",
      "Processing scene: hyang_4\n",
      "Loaded 9 samples from scene hyang_4\n",
      "Processing scene: gates_3\n",
      "Loaded 10 samples from scene gates_3\n",
      "Processing scene: bookstore_3\n",
      "Loaded 10 samples from scene bookstore_3\n",
      "Processing scene: nexus_9\n",
      "Loaded 10 samples from scene nexus_9\n",
      "Processing scene: gates_0\n",
      "Loaded 10 samples from scene gates_0\n",
      "Processing scene: nexus_0\n",
      "Loaded 10 samples from scene nexus_0\n",
      "Processing scene: nexus_8\n",
      "Loaded 10 samples from scene nexus_8\n",
      "Processing scene: deathCircle_3\n",
      "Loaded 10 samples from scene deathCircle_3\n",
      "Processing scene: deathCircle_1\n",
      "Loaded 10 samples from scene deathCircle_1\n",
      "Processing scene: gates_8\n",
      "Loaded 10 samples from scene gates_8\n",
      "Processing scene: nexus_7\n",
      "Loaded 10 samples from scene nexus_7\n",
      "Loaded 244 samples in total\n"
     ]
    }
   ],
   "source": [
    "from trajectory_prediction.utils import load_limited_data_per_scene\n",
    "\n",
    "all_inputs, all_targets = load_limited_data_per_scene(\n",
    "    dataset_dir, \"test\", obs_len, pred_len, samples_per_scene=10\n",
    ")\n"
   ]
  },
  {
   "cell_type": "code",
   "execution_count": 38,
   "metadata": {},
   "outputs": [
    {
     "name": "stdout",
     "output_type": "stream",
     "text": [
      "(3, 8, 2)\n",
      "(3, 12, 2)\n"
     ]
    }
   ],
   "source": [
    "for traj_idx, (input_traj, target_traj) in enumerate(zip(all_inputs, all_targets)):\n",
    "    print(input_traj.shape)\n",
    "    print(target_traj.shape)\n",
    "    break"
   ]
  },
  {
   "cell_type": "code",
   "execution_count": 37,
   "metadata": {},
   "outputs": [
    {
     "name": "stdout",
     "output_type": "stream",
     "text": [
      "Batch first instance:\n"
     ]
    },
    {
     "data": {
      "image/png": "[encoded data removed]",
      "text/plain": [
       "<Figure size 640x480 with 1 Axes>"
      ]
     },
     "metadata": {},
     "output_type": "display_data"
    }
   ],
   "source": [
    "# Visualize one instance in the batch\n",
    "print(\"Batch first instance:\")\n",
    "\n",
    "instance_observation = input_traj[0] # [8, 2]\n",
    "instance_prediction = target_traj[0] # [12, 2]\n",
    "\n",
    "import matplotlib.pyplot as plt\n",
    "\n",
    "# Create a figure and axis\n",
    "fig, ax = plt.subplots()\n",
    "\n",
    "ax.scatter(instance_observation[:, 0], instance_observation[:, 1], c='blue', label='Observed Trajectory')\n",
    "ax.scatter(instance_prediction[:, 0], instance_prediction[:, 1], c='red', label='Predicted Trajectory')\n",
    "\n",
    "ax.legend()\n",
    "plt.show()"
   ]
  }
 ],
 "metadata": {
  "kernelspec": {
   "display_name": ".venv",
   "language": "python",
   "name": "python3"
  },
  "language_info": {
   "codemirror_mode": {
    "name": "ipython",
    "version": 3
   },
   "file_extension": ".py",
   "mimetype": "text/x-python",
   "name": "python",
   "nbconvert_exporter": "python",
   "pygments_lexer": "ipython3",
   "version": "3.12.9"
  }
 },
 "nbformat": 4,
 "nbformat_minor": 2
}
